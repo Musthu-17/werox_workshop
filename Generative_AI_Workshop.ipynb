{
  "nbformat": 4,
  "nbformat_minor": 0,
  "metadata": {
    "colab": {
      "provenance": [],
      "authorship_tag": "ABX9TyMRS4YXDlqSIAjvM7XmqSSQ",
      "include_colab_link": true
    },
    "kernelspec": {
      "name": "python3",
      "display_name": "Python 3"
    },
    "language_info": {
      "name": "python"
    }
  },
  "cells": [
    {
      "cell_type": "markdown",
      "metadata": {
        "id": "view-in-github",
        "colab_type": "text"
      },
      "source": [
        "<a href=\"https://colab.research.google.com/github/mohammedshaneeb-ai/Chat_With_Pdf/blob/main/Generative_AI_Workshop.ipynb\" target=\"_parent\"><img src=\"https://colab.research.google.com/assets/colab-badge.svg\" alt=\"Open In Colab\"/></a>"
      ]
    },
    {
      "cell_type": "markdown",
      "source": [
        "# Installing Libraries\n",
        "\n"
      ],
      "metadata": {
        "id": "seqqojnMkpTI"
      }
    },
    {
      "cell_type": "code",
      "execution_count": 10,
      "metadata": {
        "colab": {
          "base_uri": "https://localhost:8080/"
        },
        "id": "fBq-We3XvOSI",
        "outputId": "ed01505a-6b40-4a34-fcde-82339f292ac7"
      },
      "outputs": [
        {
          "output_type": "stream",
          "name": "stdout",
          "text": [
            "Requirement already satisfied: langchain in /usr/local/lib/python3.10/dist-packages (0.1.6)\n",
            "Requirement already satisfied: PyYAML>=5.3 in /usr/local/lib/python3.10/dist-packages (from langchain) (6.0.1)\n",
            "Requirement already satisfied: SQLAlchemy<3,>=1.4 in /usr/local/lib/python3.10/dist-packages (from langchain) (2.0.25)\n",
            "Requirement already satisfied: aiohttp<4.0.0,>=3.8.3 in /usr/local/lib/python3.10/dist-packages (from langchain) (3.9.3)\n",
            "Requirement already satisfied: async-timeout<5.0.0,>=4.0.0 in /usr/local/lib/python3.10/dist-packages (from langchain) (4.0.3)\n",
            "Requirement already satisfied: dataclasses-json<0.7,>=0.5.7 in /usr/local/lib/python3.10/dist-packages (from langchain) (0.6.4)\n",
            "Requirement already satisfied: jsonpatch<2.0,>=1.33 in /usr/local/lib/python3.10/dist-packages (from langchain) (1.33)\n",
            "Requirement already satisfied: langchain-community<0.1,>=0.0.18 in /usr/local/lib/python3.10/dist-packages (from langchain) (0.0.19)\n",
            "Requirement already satisfied: langchain-core<0.2,>=0.1.22 in /usr/local/lib/python3.10/dist-packages (from langchain) (0.1.22)\n",
            "Requirement already satisfied: langsmith<0.1,>=0.0.83 in /usr/local/lib/python3.10/dist-packages (from langchain) (0.0.87)\n",
            "Requirement already satisfied: numpy<2,>=1 in /usr/local/lib/python3.10/dist-packages (from langchain) (1.23.5)\n",
            "Requirement already satisfied: pydantic<3,>=1 in /usr/local/lib/python3.10/dist-packages (from langchain) (2.6.1)\n",
            "Requirement already satisfied: requests<3,>=2 in /usr/local/lib/python3.10/dist-packages (from langchain) (2.31.0)\n",
            "Requirement already satisfied: tenacity<9.0.0,>=8.1.0 in /usr/local/lib/python3.10/dist-packages (from langchain) (8.2.3)\n",
            "Requirement already satisfied: aiosignal>=1.1.2 in /usr/local/lib/python3.10/dist-packages (from aiohttp<4.0.0,>=3.8.3->langchain) (1.3.1)\n",
            "Requirement already satisfied: attrs>=17.3.0 in /usr/local/lib/python3.10/dist-packages (from aiohttp<4.0.0,>=3.8.3->langchain) (23.2.0)\n",
            "Requirement already satisfied: frozenlist>=1.1.1 in /usr/local/lib/python3.10/dist-packages (from aiohttp<4.0.0,>=3.8.3->langchain) (1.4.1)\n",
            "Requirement already satisfied: multidict<7.0,>=4.5 in /usr/local/lib/python3.10/dist-packages (from aiohttp<4.0.0,>=3.8.3->langchain) (6.0.5)\n",
            "Requirement already satisfied: yarl<2.0,>=1.0 in /usr/local/lib/python3.10/dist-packages (from aiohttp<4.0.0,>=3.8.3->langchain) (1.9.4)\n",
            "Requirement already satisfied: marshmallow<4.0.0,>=3.18.0 in /usr/local/lib/python3.10/dist-packages (from dataclasses-json<0.7,>=0.5.7->langchain) (3.20.2)\n",
            "Requirement already satisfied: typing-inspect<1,>=0.4.0 in /usr/local/lib/python3.10/dist-packages (from dataclasses-json<0.7,>=0.5.7->langchain) (0.9.0)\n",
            "Requirement already satisfied: jsonpointer>=1.9 in /usr/local/lib/python3.10/dist-packages (from jsonpatch<2.0,>=1.33->langchain) (2.4)\n",
            "Requirement already satisfied: anyio<5,>=3 in /usr/local/lib/python3.10/dist-packages (from langchain-core<0.2,>=0.1.22->langchain) (3.7.1)\n",
            "Requirement already satisfied: packaging<24.0,>=23.2 in /usr/local/lib/python3.10/dist-packages (from langchain-core<0.2,>=0.1.22->langchain) (23.2)\n",
            "Requirement already satisfied: annotated-types>=0.4.0 in /usr/local/lib/python3.10/dist-packages (from pydantic<3,>=1->langchain) (0.6.0)\n",
            "Requirement already satisfied: pydantic-core==2.16.2 in /usr/local/lib/python3.10/dist-packages (from pydantic<3,>=1->langchain) (2.16.2)\n",
            "Requirement already satisfied: typing-extensions>=4.6.1 in /usr/local/lib/python3.10/dist-packages (from pydantic<3,>=1->langchain) (4.9.0)\n",
            "Requirement already satisfied: charset-normalizer<4,>=2 in /usr/local/lib/python3.10/dist-packages (from requests<3,>=2->langchain) (3.3.2)\n",
            "Requirement already satisfied: idna<4,>=2.5 in /usr/local/lib/python3.10/dist-packages (from requests<3,>=2->langchain) (3.6)\n",
            "Requirement already satisfied: urllib3<3,>=1.21.1 in /usr/local/lib/python3.10/dist-packages (from requests<3,>=2->langchain) (2.0.7)\n",
            "Requirement already satisfied: certifi>=2017.4.17 in /usr/local/lib/python3.10/dist-packages (from requests<3,>=2->langchain) (2024.2.2)\n",
            "Requirement already satisfied: greenlet!=0.4.17 in /usr/local/lib/python3.10/dist-packages (from SQLAlchemy<3,>=1.4->langchain) (3.0.3)\n",
            "Requirement already satisfied: sniffio>=1.1 in /usr/local/lib/python3.10/dist-packages (from anyio<5,>=3->langchain-core<0.2,>=0.1.22->langchain) (1.3.0)\n",
            "Requirement already satisfied: exceptiongroup in /usr/local/lib/python3.10/dist-packages (from anyio<5,>=3->langchain-core<0.2,>=0.1.22->langchain) (1.2.0)\n",
            "Requirement already satisfied: mypy-extensions>=0.3.0 in /usr/local/lib/python3.10/dist-packages (from typing-inspect<1,>=0.4.0->dataclasses-json<0.7,>=0.5.7->langchain) (1.0.0)\n",
            "Requirement already satisfied: openai in /usr/local/lib/python3.10/dist-packages (1.12.0)\n",
            "Requirement already satisfied: anyio<5,>=3.5.0 in /usr/local/lib/python3.10/dist-packages (from openai) (3.7.1)\n",
            "Requirement already satisfied: distro<2,>=1.7.0 in /usr/lib/python3/dist-packages (from openai) (1.7.0)\n",
            "Requirement already satisfied: httpx<1,>=0.23.0 in /usr/local/lib/python3.10/dist-packages (from openai) (0.26.0)\n",
            "Requirement already satisfied: pydantic<3,>=1.9.0 in /usr/local/lib/python3.10/dist-packages (from openai) (2.6.1)\n",
            "Requirement already satisfied: sniffio in /usr/local/lib/python3.10/dist-packages (from openai) (1.3.0)\n",
            "Requirement already satisfied: tqdm>4 in /usr/local/lib/python3.10/dist-packages (from openai) (4.66.1)\n",
            "Requirement already satisfied: typing-extensions<5,>=4.7 in /usr/local/lib/python3.10/dist-packages (from openai) (4.9.0)\n",
            "Requirement already satisfied: idna>=2.8 in /usr/local/lib/python3.10/dist-packages (from anyio<5,>=3.5.0->openai) (3.6)\n",
            "Requirement already satisfied: exceptiongroup in /usr/local/lib/python3.10/dist-packages (from anyio<5,>=3.5.0->openai) (1.2.0)\n",
            "Requirement already satisfied: certifi in /usr/local/lib/python3.10/dist-packages (from httpx<1,>=0.23.0->openai) (2024.2.2)\n",
            "Requirement already satisfied: httpcore==1.* in /usr/local/lib/python3.10/dist-packages (from httpx<1,>=0.23.0->openai) (1.0.2)\n",
            "Requirement already satisfied: h11<0.15,>=0.13 in /usr/local/lib/python3.10/dist-packages (from httpcore==1.*->httpx<1,>=0.23.0->openai) (0.14.0)\n",
            "Requirement already satisfied: annotated-types>=0.4.0 in /usr/local/lib/python3.10/dist-packages (from pydantic<3,>=1.9.0->openai) (0.6.0)\n",
            "Requirement already satisfied: pydantic-core==2.16.2 in /usr/local/lib/python3.10/dist-packages (from pydantic<3,>=1.9.0->openai) (2.16.2)\n",
            "Requirement already satisfied: PyPDF2 in /usr/local/lib/python3.10/dist-packages (3.0.1)\n",
            "Requirement already satisfied: faiss-cpu in /usr/local/lib/python3.10/dist-packages (1.7.4)\n",
            "Requirement already satisfied: tiktoken in /usr/local/lib/python3.10/dist-packages (0.5.2)\n",
            "Requirement already satisfied: regex>=2022.1.18 in /usr/local/lib/python3.10/dist-packages (from tiktoken) (2023.12.25)\n",
            "Requirement already satisfied: requests>=2.26.0 in /usr/local/lib/python3.10/dist-packages (from tiktoken) (2.31.0)\n",
            "Requirement already satisfied: charset-normalizer<4,>=2 in /usr/local/lib/python3.10/dist-packages (from requests>=2.26.0->tiktoken) (3.3.2)\n",
            "Requirement already satisfied: idna<4,>=2.5 in /usr/local/lib/python3.10/dist-packages (from requests>=2.26.0->tiktoken) (3.6)\n",
            "Requirement already satisfied: urllib3<3,>=1.21.1 in /usr/local/lib/python3.10/dist-packages (from requests>=2.26.0->tiktoken) (2.0.7)\n",
            "Requirement already satisfied: certifi>=2017.4.17 in /usr/local/lib/python3.10/dist-packages (from requests>=2.26.0->tiktoken) (2024.2.2)\n",
            "Requirement already satisfied: unstructured[all-docs] in /usr/local/lib/python3.10/dist-packages (0.12.4)\n",
            "Requirement already satisfied: chardet in /usr/local/lib/python3.10/dist-packages (from unstructured[all-docs]) (5.2.0)\n",
            "Requirement already satisfied: filetype in /usr/local/lib/python3.10/dist-packages (from unstructured[all-docs]) (1.2.0)\n",
            "Requirement already satisfied: python-magic in /usr/local/lib/python3.10/dist-packages (from unstructured[all-docs]) (0.4.27)\n",
            "Requirement already satisfied: lxml in /usr/local/lib/python3.10/dist-packages (from unstructured[all-docs]) (4.9.4)\n",
            "Requirement already satisfied: nltk in /usr/local/lib/python3.10/dist-packages (from unstructured[all-docs]) (3.8.1)\n",
            "Requirement already satisfied: tabulate in /usr/local/lib/python3.10/dist-packages (from unstructured[all-docs]) (0.9.0)\n",
            "Requirement already satisfied: requests in /usr/local/lib/python3.10/dist-packages (from unstructured[all-docs]) (2.31.0)\n",
            "Requirement already satisfied: beautifulsoup4 in /usr/local/lib/python3.10/dist-packages (from unstructured[all-docs]) (4.12.3)\n",
            "Requirement already satisfied: emoji in /usr/local/lib/python3.10/dist-packages (from unstructured[all-docs]) (2.10.1)\n",
            "Requirement already satisfied: dataclasses-json in /usr/local/lib/python3.10/dist-packages (from unstructured[all-docs]) (0.6.4)\n",
            "Requirement already satisfied: python-iso639 in /usr/local/lib/python3.10/dist-packages (from unstructured[all-docs]) (2024.2.7)\n",
            "Requirement already satisfied: langdetect in /usr/local/lib/python3.10/dist-packages (from unstructured[all-docs]) (1.0.9)\n",
            "Requirement already satisfied: numpy in /usr/local/lib/python3.10/dist-packages (from unstructured[all-docs]) (1.23.5)\n",
            "Requirement already satisfied: rapidfuzz in /usr/local/lib/python3.10/dist-packages (from unstructured[all-docs]) (3.6.1)\n",
            "Requirement already satisfied: backoff in /usr/local/lib/python3.10/dist-packages (from unstructured[all-docs]) (2.2.1)\n",
            "Requirement already satisfied: typing-extensions in /usr/local/lib/python3.10/dist-packages (from unstructured[all-docs]) (4.9.0)\n",
            "Requirement already satisfied: unstructured-client>=0.15.1 in /usr/local/lib/python3.10/dist-packages (from unstructured[all-docs]) (0.18.0)\n",
            "Requirement already satisfied: wrapt in /usr/local/lib/python3.10/dist-packages (from unstructured[all-docs]) (1.14.1)\n",
            "Requirement already satisfied: unstructured-inference==0.7.23 in /usr/local/lib/python3.10/dist-packages (from unstructured[all-docs]) (0.7.23)\n",
            "Requirement already satisfied: markdown in /usr/local/lib/python3.10/dist-packages (from unstructured[all-docs]) (3.5.2)\n",
            "Requirement already satisfied: pdfminer.six in /usr/local/lib/python3.10/dist-packages (from unstructured[all-docs]) (20221105)\n",
            "Requirement already satisfied: pypdf in /usr/local/lib/python3.10/dist-packages (from unstructured[all-docs]) (4.0.1)\n",
            "Requirement already satisfied: unstructured.pytesseract>=0.3.12 in /usr/local/lib/python3.10/dist-packages (from unstructured[all-docs]) (0.3.12)\n",
            "Requirement already satisfied: python-pptx<=0.6.23 in /usr/local/lib/python3.10/dist-packages (from unstructured[all-docs]) (0.6.23)\n",
            "Requirement already satisfied: pypandoc in /usr/local/lib/python3.10/dist-packages (from unstructured[all-docs]) (1.12)\n",
            "Requirement already satisfied: python-docx in /usr/local/lib/python3.10/dist-packages (from unstructured[all-docs]) (1.1.0)\n",
            "Requirement already satisfied: pdf2image in /usr/local/lib/python3.10/dist-packages (from unstructured[all-docs]) (1.17.0)\n",
            "Requirement already satisfied: xlrd in /usr/local/lib/python3.10/dist-packages (from unstructured[all-docs]) (2.0.1)\n",
            "Requirement already satisfied: pikepdf in /usr/local/lib/python3.10/dist-packages (from unstructured[all-docs]) (8.12.0)\n",
            "Requirement already satisfied: pillow-heif in /usr/local/lib/python3.10/dist-packages (from unstructured[all-docs]) (0.15.0)\n",
            "Requirement already satisfied: networkx in /usr/local/lib/python3.10/dist-packages (from unstructured[all-docs]) (3.2.1)\n",
            "Requirement already satisfied: msg-parser in /usr/local/lib/python3.10/dist-packages (from unstructured[all-docs]) (1.2.0)\n",
            "Requirement already satisfied: onnx in /usr/local/lib/python3.10/dist-packages (from unstructured[all-docs]) (1.15.0)\n",
            "Requirement already satisfied: pandas in /usr/local/lib/python3.10/dist-packages (from unstructured[all-docs]) (1.5.3)\n",
            "Requirement already satisfied: openpyxl in /usr/local/lib/python3.10/dist-packages (from unstructured[all-docs]) (3.1.2)\n",
            "Requirement already satisfied: layoutparser[layoutmodels,tesseract] in /usr/local/lib/python3.10/dist-packages (from unstructured-inference==0.7.23->unstructured[all-docs]) (0.3.4)\n",
            "Requirement already satisfied: python-multipart in /usr/local/lib/python3.10/dist-packages (from unstructured-inference==0.7.23->unstructured[all-docs]) (0.0.7)\n",
            "Requirement already satisfied: huggingface-hub in /usr/local/lib/python3.10/dist-packages (from unstructured-inference==0.7.23->unstructured[all-docs]) (0.20.3)\n",
            "Requirement already satisfied: opencv-python!=4.7.0.68 in /usr/local/lib/python3.10/dist-packages (from unstructured-inference==0.7.23->unstructured[all-docs]) (4.8.0.76)\n",
            "Requirement already satisfied: onnxruntime<1.16 in /usr/local/lib/python3.10/dist-packages (from unstructured-inference==0.7.23->unstructured[all-docs]) (1.15.1)\n",
            "Requirement already satisfied: transformers>=4.25.1 in /usr/local/lib/python3.10/dist-packages (from unstructured-inference==0.7.23->unstructured[all-docs]) (4.35.2)\n",
            "Requirement already satisfied: Pillow>=3.3.2 in /usr/local/lib/python3.10/dist-packages (from python-pptx<=0.6.23->unstructured[all-docs]) (10.2.0)\n",
            "Requirement already satisfied: XlsxWriter>=0.5.7 in /usr/local/lib/python3.10/dist-packages (from python-pptx<=0.6.23->unstructured[all-docs]) (3.1.9)\n",
            "Requirement already satisfied: certifi>=2023.7.22 in /usr/local/lib/python3.10/dist-packages (from unstructured-client>=0.15.1->unstructured[all-docs]) (2024.2.2)\n",
            "Requirement already satisfied: charset-normalizer>=3.2.0 in /usr/local/lib/python3.10/dist-packages (from unstructured-client>=0.15.1->unstructured[all-docs]) (3.3.2)\n",
            "Requirement already satisfied: dataclasses-json-speakeasy>=0.5.11 in /usr/local/lib/python3.10/dist-packages (from unstructured-client>=0.15.1->unstructured[all-docs]) (0.5.11)\n",
            "Requirement already satisfied: idna>=3.4 in /usr/local/lib/python3.10/dist-packages (from unstructured-client>=0.15.1->unstructured[all-docs]) (3.6)\n",
            "Requirement already satisfied: jsonpath-python>=1.0.6 in /usr/local/lib/python3.10/dist-packages (from unstructured-client>=0.15.1->unstructured[all-docs]) (1.0.6)\n",
            "Requirement already satisfied: marshmallow>=3.19.0 in /usr/local/lib/python3.10/dist-packages (from unstructured-client>=0.15.1->unstructured[all-docs]) (3.20.2)\n",
            "Requirement already satisfied: mypy-extensions>=1.0.0 in /usr/local/lib/python3.10/dist-packages (from unstructured-client>=0.15.1->unstructured[all-docs]) (1.0.0)\n",
            "Requirement already satisfied: packaging>=23.1 in /usr/local/lib/python3.10/dist-packages (from unstructured-client>=0.15.1->unstructured[all-docs]) (23.2)\n",
            "Requirement already satisfied: python-dateutil>=2.8.2 in /usr/local/lib/python3.10/dist-packages (from unstructured-client>=0.15.1->unstructured[all-docs]) (2.8.2)\n",
            "Requirement already satisfied: six>=1.16.0 in /usr/local/lib/python3.10/dist-packages (from unstructured-client>=0.15.1->unstructured[all-docs]) (1.16.0)\n",
            "Requirement already satisfied: typing-inspect>=0.9.0 in /usr/local/lib/python3.10/dist-packages (from unstructured-client>=0.15.1->unstructured[all-docs]) (0.9.0)\n",
            "Requirement already satisfied: urllib3>=1.26.18 in /usr/local/lib/python3.10/dist-packages (from unstructured-client>=0.15.1->unstructured[all-docs]) (2.0.7)\n",
            "Requirement already satisfied: soupsieve>1.2 in /usr/local/lib/python3.10/dist-packages (from beautifulsoup4->unstructured[all-docs]) (2.5)\n",
            "Requirement already satisfied: olefile>=0.46 in /usr/local/lib/python3.10/dist-packages (from msg-parser->unstructured[all-docs]) (0.47)\n",
            "Requirement already satisfied: click in /usr/local/lib/python3.10/dist-packages (from nltk->unstructured[all-docs]) (8.1.7)\n",
            "Requirement already satisfied: joblib in /usr/local/lib/python3.10/dist-packages (from nltk->unstructured[all-docs]) (1.3.2)\n",
            "Requirement already satisfied: regex>=2021.8.3 in /usr/local/lib/python3.10/dist-packages (from nltk->unstructured[all-docs]) (2023.12.25)\n",
            "Requirement already satisfied: tqdm in /usr/local/lib/python3.10/dist-packages (from nltk->unstructured[all-docs]) (4.66.1)\n",
            "Requirement already satisfied: protobuf>=3.20.2 in /usr/local/lib/python3.10/dist-packages (from onnx->unstructured[all-docs]) (3.20.3)\n",
            "Requirement already satisfied: et-xmlfile in /usr/local/lib/python3.10/dist-packages (from openpyxl->unstructured[all-docs]) (1.1.0)\n",
            "Requirement already satisfied: pytz>=2020.1 in /usr/local/lib/python3.10/dist-packages (from pandas->unstructured[all-docs]) (2023.4)\n",
            "Requirement already satisfied: cryptography>=36.0.0 in /usr/local/lib/python3.10/dist-packages (from pdfminer.six->unstructured[all-docs]) (42.0.2)\n",
            "Requirement already satisfied: Deprecated in /usr/local/lib/python3.10/dist-packages (from pikepdf->unstructured[all-docs]) (1.2.14)\n",
            "Requirement already satisfied: cffi>=1.12 in /usr/local/lib/python3.10/dist-packages (from cryptography>=36.0.0->pdfminer.six->unstructured[all-docs]) (1.16.0)\n",
            "Requirement already satisfied: coloredlogs in /usr/local/lib/python3.10/dist-packages (from onnxruntime<1.16->unstructured-inference==0.7.23->unstructured[all-docs]) (15.0.1)\n",
            "Requirement already satisfied: flatbuffers in /usr/local/lib/python3.10/dist-packages (from onnxruntime<1.16->unstructured-inference==0.7.23->unstructured[all-docs]) (23.5.26)\n",
            "Requirement already satisfied: sympy in /usr/local/lib/python3.10/dist-packages (from onnxruntime<1.16->unstructured-inference==0.7.23->unstructured[all-docs]) (1.12)\n",
            "Requirement already satisfied: filelock in /usr/local/lib/python3.10/dist-packages (from transformers>=4.25.1->unstructured-inference==0.7.23->unstructured[all-docs]) (3.13.1)\n",
            "Requirement already satisfied: pyyaml>=5.1 in /usr/local/lib/python3.10/dist-packages (from transformers>=4.25.1->unstructured-inference==0.7.23->unstructured[all-docs]) (6.0.1)\n",
            "Requirement already satisfied: tokenizers<0.19,>=0.14 in /usr/local/lib/python3.10/dist-packages (from transformers>=4.25.1->unstructured-inference==0.7.23->unstructured[all-docs]) (0.15.1)\n",
            "Requirement already satisfied: safetensors>=0.3.1 in /usr/local/lib/python3.10/dist-packages (from transformers>=4.25.1->unstructured-inference==0.7.23->unstructured[all-docs]) (0.4.2)\n",
            "Requirement already satisfied: fsspec>=2023.5.0 in /usr/local/lib/python3.10/dist-packages (from huggingface-hub->unstructured-inference==0.7.23->unstructured[all-docs]) (2023.6.0)\n",
            "Requirement already satisfied: scipy in /usr/local/lib/python3.10/dist-packages (from layoutparser[layoutmodels,tesseract]->unstructured-inference==0.7.23->unstructured[all-docs]) (1.11.4)\n",
            "Requirement already satisfied: iopath in /usr/local/lib/python3.10/dist-packages (from layoutparser[layoutmodels,tesseract]->unstructured-inference==0.7.23->unstructured[all-docs]) (0.1.10)\n",
            "Requirement already satisfied: pdfplumber in /usr/local/lib/python3.10/dist-packages (from layoutparser[layoutmodels,tesseract]->unstructured-inference==0.7.23->unstructured[all-docs]) (0.10.3)\n",
            "Requirement already satisfied: torch in /usr/local/lib/python3.10/dist-packages (from layoutparser[layoutmodels,tesseract]->unstructured-inference==0.7.23->unstructured[all-docs]) (2.1.0+cu121)\n",
            "Requirement already satisfied: torchvision in /usr/local/lib/python3.10/dist-packages (from layoutparser[layoutmodels,tesseract]->unstructured-inference==0.7.23->unstructured[all-docs]) (0.16.0+cu121)\n",
            "Requirement already satisfied: effdet in /usr/local/lib/python3.10/dist-packages (from layoutparser[layoutmodels,tesseract]->unstructured-inference==0.7.23->unstructured[all-docs]) (0.4.1)\n",
            "Requirement already satisfied: pytesseract in /usr/local/lib/python3.10/dist-packages (from layoutparser[layoutmodels,tesseract]->unstructured-inference==0.7.23->unstructured[all-docs]) (0.3.10)\n",
            "Requirement already satisfied: pycparser in /usr/local/lib/python3.10/dist-packages (from cffi>=1.12->cryptography>=36.0.0->pdfminer.six->unstructured[all-docs]) (2.21)\n",
            "Requirement already satisfied: humanfriendly>=9.1 in /usr/local/lib/python3.10/dist-packages (from coloredlogs->onnxruntime<1.16->unstructured-inference==0.7.23->unstructured[all-docs]) (10.0)\n",
            "Requirement already satisfied: timm>=0.9.2 in /usr/local/lib/python3.10/dist-packages (from effdet->layoutparser[layoutmodels,tesseract]->unstructured-inference==0.7.23->unstructured[all-docs]) (0.9.12)\n",
            "Requirement already satisfied: pycocotools>=2.0.2 in /usr/local/lib/python3.10/dist-packages (from effdet->layoutparser[layoutmodels,tesseract]->unstructured-inference==0.7.23->unstructured[all-docs]) (2.0.7)\n",
            "Requirement already satisfied: omegaconf>=2.0 in /usr/local/lib/python3.10/dist-packages (from effdet->layoutparser[layoutmodels,tesseract]->unstructured-inference==0.7.23->unstructured[all-docs]) (2.3.0)\n",
            "Requirement already satisfied: jinja2 in /usr/local/lib/python3.10/dist-packages (from torch->layoutparser[layoutmodels,tesseract]->unstructured-inference==0.7.23->unstructured[all-docs]) (3.1.3)\n",
            "Requirement already satisfied: triton==2.1.0 in /usr/local/lib/python3.10/dist-packages (from torch->layoutparser[layoutmodels,tesseract]->unstructured-inference==0.7.23->unstructured[all-docs]) (2.1.0)\n",
            "Requirement already satisfied: portalocker in /usr/local/lib/python3.10/dist-packages (from iopath->layoutparser[layoutmodels,tesseract]->unstructured-inference==0.7.23->unstructured[all-docs]) (2.8.2)\n",
            "Requirement already satisfied: pypdfium2>=4.18.0 in /usr/local/lib/python3.10/dist-packages (from pdfplumber->layoutparser[layoutmodels,tesseract]->unstructured-inference==0.7.23->unstructured[all-docs]) (4.26.0)\n",
            "Requirement already satisfied: mpmath>=0.19 in /usr/local/lib/python3.10/dist-packages (from sympy->onnxruntime<1.16->unstructured-inference==0.7.23->unstructured[all-docs]) (1.3.0)\n",
            "Requirement already satisfied: antlr4-python3-runtime==4.9.* in /usr/local/lib/python3.10/dist-packages (from omegaconf>=2.0->effdet->layoutparser[layoutmodels,tesseract]->unstructured-inference==0.7.23->unstructured[all-docs]) (4.9.3)\n",
            "Requirement already satisfied: matplotlib>=2.1.0 in /usr/local/lib/python3.10/dist-packages (from pycocotools>=2.0.2->effdet->layoutparser[layoutmodels,tesseract]->unstructured-inference==0.7.23->unstructured[all-docs]) (3.7.1)\n",
            "Requirement already satisfied: MarkupSafe>=2.0 in /usr/local/lib/python3.10/dist-packages (from jinja2->torch->layoutparser[layoutmodels,tesseract]->unstructured-inference==0.7.23->unstructured[all-docs]) (2.1.5)\n",
            "Requirement already satisfied: contourpy>=1.0.1 in /usr/local/lib/python3.10/dist-packages (from matplotlib>=2.1.0->pycocotools>=2.0.2->effdet->layoutparser[layoutmodels,tesseract]->unstructured-inference==0.7.23->unstructured[all-docs]) (1.2.0)\n",
            "Requirement already satisfied: cycler>=0.10 in /usr/local/lib/python3.10/dist-packages (from matplotlib>=2.1.0->pycocotools>=2.0.2->effdet->layoutparser[layoutmodels,tesseract]->unstructured-inference==0.7.23->unstructured[all-docs]) (0.12.1)\n",
            "Requirement already satisfied: fonttools>=4.22.0 in /usr/local/lib/python3.10/dist-packages (from matplotlib>=2.1.0->pycocotools>=2.0.2->effdet->layoutparser[layoutmodels,tesseract]->unstructured-inference==0.7.23->unstructured[all-docs]) (4.48.1)\n",
            "Requirement already satisfied: kiwisolver>=1.0.1 in /usr/local/lib/python3.10/dist-packages (from matplotlib>=2.1.0->pycocotools>=2.0.2->effdet->layoutparser[layoutmodels,tesseract]->unstructured-inference==0.7.23->unstructured[all-docs]) (1.4.5)\n",
            "Requirement already satisfied: pyparsing>=2.3.1 in /usr/local/lib/python3.10/dist-packages (from matplotlib>=2.1.0->pycocotools>=2.0.2->effdet->layoutparser[layoutmodels,tesseract]->unstructured-inference==0.7.23->unstructured[all-docs]) (3.1.1)\n"
          ]
        }
      ],
      "source": [
        "!pip install langchain\n",
        "!pip install openai\n",
        "!pip install PyPDF2\n",
        "!pip install faiss-cpu\n",
        "!pip install tiktoken\n",
        "!pip install \"unstructured[all-docs]\""
      ]
    },
    {
      "cell_type": "markdown",
      "source": [
        "# Loading Modules"
      ],
      "metadata": {
        "id": "gpgw9kPLk00i"
      }
    },
    {
      "cell_type": "code",
      "source": [
        "from langchain.embeddings.openai import OpenAIEmbeddings\n",
        "from langchain.text_splitter import CharacterTextSplitter\n",
        "from langchain.vectorstores import FAISS"
      ],
      "metadata": {
        "id": "gD02y5RCvzw3"
      },
      "execution_count": 12,
      "outputs": []
    },
    {
      "cell_type": "code",
      "source": [
        "import os\n",
        "os.environ[\"OPENAI_API_KEY\"] = \"Paste your open ai key here\""
      ],
      "metadata": {
        "id": "oC8pgr2Nv1J_"
      },
      "execution_count": 13,
      "outputs": []
    },
    {
      "cell_type": "markdown",
      "source": [
        "# Loading data"
      ],
      "metadata": {
        "id": "VAu19TcDlaiC"
      }
    },
    {
      "cell_type": "code",
      "source": [
        "from langchain.document_loaders import DirectoryLoader\n",
        "\n",
        "loader  = DirectoryLoader('data')\n",
        "documents = loader.load()\n"
      ],
      "metadata": {
        "id": "rYhDv6l-v4iL"
      },
      "execution_count": 14,
      "outputs": []
    },
    {
      "cell_type": "code",
      "source": [
        "documents"
      ],
      "metadata": {
        "colab": {
          "base_uri": "https://localhost:8080/"
        },
        "id": "iz_n5TT1yCGL",
        "outputId": "db754922-c5be-4c92-97b7-61ae1c219a37"
      },
      "execution_count": 15,
      "outputs": [
        {
          "output_type": "execute_result",
          "data": {
            "text/plain": [
              "[Document(page_content='Let\\'s explore the culture, festivals, and history of Canada in detail.\\n\\nCanada\\'s Culture:**\\n\\n**1. Cultural Diversity:** Canada is known for its cultural mosaic, where people from diverse backgrounds and ethnicities coexist harmoniously. This multiculturalism is a defining feature of Canadian society.\\n\\n**2. Bilingualism:** Canada is officially bilingual, with English and French as the two official languages. This bilingualism reflects the country\\'s history and the presence of a significant French-speaking population in the province of Quebec.\\n\\n**3. Arts and Culture:** Canada has a rich artistic heritage, with contributions to literature, music, film, and visual arts. Canadian authors like Margaret Atwood and Yann Martel have achieved international acclaim. The country is also known for its indigenous art and traditions.\\n\\n**4. Indigenous Culture:** Canada\\'s indigenous peoples, including First Nations, Inuit, and Métis, have a deep cultural heritage. Indigenous art, storytelling, and traditions are an integral part of Canadian culture.\\n\\n**5. Cuisine:** Canadian cuisine is influenced by both indigenous and immigrant cultures. Iconic dishes include poutine (fries with cheese curds and gravy), butter tarts, tourtière (meat pie), and Nanaimo bars.\\n\\nCanada\\'s Festivals:**\\n\\n**1. Canada Day:** Celebrated on July 1st, Canada Day marks the anniversary of Confederation in 1867 when Canada became a self-governing dominion within the British Empire. Festivities include parades, fireworks, and concerts.\\n\\n**2. Thanksgiving:** Similar to the U.S., Canada celebrates Thanksgiving on the second Monday in October. Families gather for a meal to give thanks for the harvest and blessings of the past year.\\n\\n**3. Winterlude:** Held in Ottawa, this winter festival showcases Canada\\'s love for winter sports and activities. It features ice sculptures, snow slides, and outdoor concerts.\\n\\n**4. Calgary Stampede:** Known as the \"Greatest Outdoor Show on Earth,\" this rodeo and exhibition celebrates Canada\\'s western heritage with rodeo events, concerts, and a lively carnival atmosphere.\\n\\n**5. Indigenous Powwows:** Throughout the year, various indigenous communities in Canada host powwows, which are gatherings featuring traditional dancing, drumming, and cultural celebrations.\\n\\nCanada\\'s History:**\\n\\n**1. Indigenous Peoples:** Canada has a long history of indigenous cultures dating back thousands of years. These diverse communities have their own languages, traditions, and histories.\\n\\n**2. European Exploration:** European exploration of Canada began in the 15th century with the arrival of explorers like John Cabot and Jacques Cartier. The fur trade became a significant economic activity.\\n\\n**3. Confederation:** On July 1, 1867, the Dominion of Canada was established through the British North America Act, uniting the provinces of Ontario, Quebec, New Brunswick, and Nova Scotia.\\n\\n**4. Expansion and Immigration:** Canada\\'s expansion westward in the late 19th and early 20th centuries attracted immigrants from Europe, Asia, and other parts of the world. This diversity has shaped modern Canada.\\n\\n**5. Independence:** Canada gradually gained more autonomy from Britain and achieved full sovereignty in 1982 with the Canada Act. The country is a constitutional monarchy with a parliamentary democracy.\\n\\nCanada\\'s culture, festivals, and history are a reflection of its multicultural identity and its commitment to inclusivity and diversity. Its history is marked by indigenous heritage, European exploration, and a modern nation known for its natural beauty, social programs, and progressive values.', metadata={'source': 'data/canada.txt'}),\n",
              " Document(page_content=\"Let's explore Pakistan's culture, festivals, and history in detail.\\n\\nPakistan's Culture:**\\n\\n**1. Cultural Diversity:** Pakistan is a diverse country with a rich tapestry of cultures, languages, and traditions. It is home to various ethnic groups, each contributing to the nation's unique cultural mosaic.\\n\\n**2. Religion:** Islam is the predominant religion in Pakistan, and it plays a central role in shaping the country's culture and way of life. Mosques, Islamic art, and calligraphy are integral parts of the cultural landscape.\\n\\n**3. Art and Architecture:** Pakistan has a rich artistic heritage, with impressive Islamic architecture, including Badshahi Mosque in Lahore and Shah Jahan Mosque in Thatta. Traditional art forms like truck art, pottery, and intricate textiles are prominent.\\n\\n**4. Cuisine:** Pakistani cuisine is known for its flavorful dishes, including biryani, kebabs, nihari, and various types of bread, such as naan and roti. Spices and aromatic herbs are commonly used in cooking.\\n\\n**5. Clothing:** Traditional Pakistani clothing varies by region. Men often wear shalwar kameez, while women wear various styles of shalwar kameez and saris. Western attire is also popular, especially in urban areas.\\n\\nPakistan's Festivals:**\\n\\n**1. Eid:** Eid-ul-Fitr and Eid-ul-Adha are two major Islamic festivals celebrated with great fervor. People dress in their finest clothes, offer prayers, exchange gifts, and share festive meals with family and friends.\\n\\n**2. Basant:** The Basant festival, celebrated in Punjab, marks the arrival of spring. It involves kite flying competitions, music, and dancing, with participants wearing bright colors.\\n\\n**3. Independence Day:** Pakistan celebrates its Independence Day on August 14th, commemorating the day it gained independence from British rule in 1947. Festivities include flag hoisting, parades, and cultural performances.\\n\\n**4. Shab-e-Barat:** This Islamic festival, also known as the Night of Forgiveness, involves special prayers and acts of charity. It's a time for Muslims to seek forgiveness and reflect on their deeds.\\n\\n**5. Urs Festivals:** These are annual festivals held at the shrines of Sufi saints across Pakistan. People gather to pay their respects, offer prayers, and participate in devotional music and dance.\\n\\nPakistan's History:**\\n\\n**1. Ancient History:** The region that is now Pakistan has a rich ancient history, with Indus Valley Civilization settlements dating back to 3300 BCE. This civilization is one of the world's oldest urban centers.\\n\\n**2. Muslim Rule:** The region saw the arrival of Islam in the 7th century, and it became a center for Islamic culture and learning. It was ruled by various Muslim dynasties, including the Mughals and the Delhi Sultanate.\\n\\n**3. Independence:** Pakistan gained independence on August 14, 1947, following the partition of British India. Muhammad Ali Jinnah, the founder of Pakistan, became its first Governor-General.\\n\\n**4. Modern Pakistan:** Since independence, Pakistan has faced various challenges and periods of political change. It has made progress in education, science, and technology and is known for its contributions in fields like literature, music, and sports.\\n\\n**5. Contemporary Pakistan:** Pakistan is a diverse and dynamic nation with a complex geopolitical landscape. It continues to play a significant role in regional and global affairs.\\n\\nPakistan's culture, festivals, and history are deeply rooted in its Islamic heritage and diverse cultural influences. The country's rich traditions and historical legacy contribute to its unique identity.\", metadata={'source': 'data/pakistan.txt'}),\n",
              " Document(page_content=\"Let's explore the culture, festivals, and history of England in detail.\\n\\nEngland's Culture:**\\n\\n**1. Cultural Heritage:** England is renowned for its rich cultural heritage, which has significantly influenced the world. Its contributions include literature, theater, music, and art. Notable figures include William Shakespeare, Charles Dickens, and The Beatles.\\n\\n**2. Language:** English, the official language, has become a global lingua franca. England's language and literature have played a pivotal role in shaping the modern world.\\n\\n**3. Arts and Entertainment:** England is home to world-class theaters like London's West End, where numerous plays and musicals are performed. The country has a strong tradition of classical music and hosts events like the BBC Proms.\\n\\n**4. Cuisine:** English cuisine includes classics like fish and chips, roast dinners, and afternoon tea. The country also has a diverse culinary scene influenced by immigration, with a variety of international restaurants.\\n\\n**5. Sports:** England has a passionate sports culture, with football (soccer), cricket, rugby, and tennis being popular. The English Premier League is one of the world's most-watched football leagues.\\n\\nEngland's Festivals:**\\n\\n**1. Bonfire Night:** Also known as Guy Fawkes Night, this November 5th celebration commemorates the failed Gunpowder Plot of 1605 with bonfires and fireworks.\\n\\n**2. Notting Hill Carnival:** Held in London in August, this vibrant carnival celebrates Caribbean culture with colorful parades, music, and dance.\\n\\n**3. Chelsea Flower Show:** This prestigious flower show takes place in May and showcases stunning garden displays and horticultural excellence.\\n\\n**4. Glastonbury Festival:** One of the world's most famous music festivals, Glastonbury attracts music lovers from around the globe and features a diverse lineup of artists.\\n\\n**5. Christmas:** Christmas in England involves decorating homes, carol singing, and festive markets. Traditional dishes include roast turkey, mince pies, and Christmas pudding.\\n\\nEngland's History:**\\n\\n**1. Ancient History:** England's history dates back to ancient times, with Roman occupation from AD 43 to the early 5th century. Roman influence can still be seen in landmarks like Hadrian's Wall.\\n\\n**2. Medieval England:** The medieval period saw the rise of kingdoms, the Norman Conquest in 1066, and the signing of the Magna Carta in 1215, a foundational document in constitutional history.\\n\\n**3. Tudor and Stuart Dynasties:** The Tudor era (1485-1603) saw the reigns of monarchs like Henry VIII and Elizabeth I. The Stuart period witnessed the English Civil War and the execution of King Charles I.\\n\\n**4. British Empire:** England played a central role in the formation of the British Empire, which became one of the largest empires in history. It had vast global influence in trade, culture, and politics.\\n\\n**5. Modern England:** The Industrial Revolution in the 18th and 19th centuries transformed England into an industrial powerhouse. The 20th century saw England endure two World Wars and eventually transition into a constitutional monarchy with a parliamentary system.\\n\\n**6. Contemporary England:** Today, England is part of the United Kingdom, comprising four nations. It has a diverse, multicultural society and is known for its global cities, including London, which is a major financial and cultural hub.\\n\\nEngland's culture, festivals, and history are a testament to its enduring influence on the world. From its literary giants to its iconic music and historical landmarks, England continues to be a place of cultural significance and historical importance.\", metadata={'source': 'data/england.txt'}),\n",
              " Document(page_content='Let\\'s explore the culture, festivals, and history of the United States (USA) in detail.\\n\\n**USA\\'s Culture:** In this section we are saying about USA\\'s Culture **1. Cultural Diversity:** The United States is often called a \"melting pot\" due to its incredible diversity. People from all over the world have immigrated to the U.S., contributing to a rich blend of cultures, languages, and traditions.\\n\\n**2. Religion:** The U.S. is religiously diverse, with a variety of faiths, including Christianity, Islam, Judaism, Buddhism, Hinduism, and others. Religious freedom is a fundamental principle in American culture.\\n\\n**3. Arts and Entertainment:** The USA has a vibrant arts scene, with contributions to literature, music, film, and visual arts. Iconic American authors like Mark Twain and Ernest Hemingway, legendary musicians like Elvis Presley and Bob Dylan, and Hollywood\\'s film industry have made a global impact.\\n\\n**4. Cuisine:** American cuisine is a reflection of its diverse population. It includes dishes influenced by Native American, European, African, Asian, and Latin American traditions. Fast food, barbecue, and regional specialties like Tex-Mex and New England clam chowder are notable.\\n\\n**5. Clothing:** American clothing styles vary widely, from casual wear like jeans and T-shirts to formal attire for business and special occasions. The U.S. is also known for its fashion industry, with cities like New York being major fashion hubs.\\n\\n**USA\\'s Festivals:** In this section we are saying about USA\\'s Festivals\\n\\n**1. Independence Day:** The Fourth of July is a significant national holiday commemorating the Declaration of Independence in 1776. It\\'s celebrated with fireworks, parades, barbecues, and patriotic displays.\\n\\n**2. Thanksgiving:** Thanksgiving, celebrated on the fourth Thursday in November, is a time for families to gather and give thanks. A traditional feast includes roast turkey, stuffing, and pumpkin pie.\\n\\n**3. Halloween:** On October 31st, Americans celebrate Halloween with costume parties, trick-or-treating, and haunted house visits. It\\'s a fun holiday for people of all ages.\\n\\n**4. Christmas:** Christmas is celebrated with decorations, gift-giving, and gatherings. Many cities are adorned with festive lights and decorations, and families exchange gifts on December 25th.\\n\\n**5. Labor Day:** Observed on the first Monday in September, Labor Day honors the contributions of workers and the labor movement. It often marks the end of summer and is celebrated with picnics and parades.\\n\\n**USA\\'s History:** In this section we are saying about USA\\'s History **1. Colonial Period:** European settlers, primarily from England, established colonies along the Eastern seaboard in the 17th century. The Mayflower Compact and the establishment of Jamestown are key events from this era.\\n\\n**2. American Revolution:** The American Revolution (1775-1783) led to the 13 American colonies gaining independence from British rule. The Declaration of Independence and the Revolutionary War are pivotal moments.\\n\\n**3. Expansion and Westward Movement:** The 19th century saw westward expansion, the Louisiana Purchase, and the Oregon Trail. This period contributed to the concept of Manifest Destiny, the belief in American expansion across the continent.\\n\\n**4. Civil War:** The American Civil War (1861-1865) was a defining moment in U.S. history, resulting in the abolition of slavery and the preservation of the Union.\\n\\n**5. 20th and 21st Centuries:** The U.S. experienced significant changes, including industrialization, the women\\'s suffrage movement, two World Wars, the civil rights movement, and technological advancements. The USA has become a global superpower and played a major role in international affairs.\\n\\nThe United States\\' culture, festivals, and history reflect its diverse and dynamic nature. It has shaped and been shaped by waves of immigration, social movements, and technological advancements, making it a complex and influential nation on the global stage.', metadata={'source': 'data/USA.txt'}),\n",
              " Document(page_content='India is a vast and diverse country with a rich cultural heritage, a tapestry of traditions, and a history that spans thousands of years. Let\\'s delve into India\\'s culture, festivals, and history in detail.\\n\\nIndia\\'s Culture:**\\n\\n**1. Cultural Diversity:** India is often referred to as the \"Land of Diversity\" due to its incredible variety of cultures, languages, religions, and traditions. It is home to numerous ethnic groups, each with its unique customs and practices.\\n\\n**2. Religion:** India is the birthplace of major religions such as Hinduism, Buddhism, Jainism, and Sikhism. It\\'s also home to significant populations of Muslims, Christians, and other faiths. The religious diversity has a profound influence on India\\'s cultural landscape.\\n\\n**3. Art and Architecture:** India boasts a rich artistic heritage, with intricate temple sculptures, colorful frescoes, and stunning architectural wonders like the Taj Mahal. Traditional art forms like Bharatanatyam (a classical dance), Kathak (another classical dance), and classical music are integral to Indian culture.\\n\\n**4. Cuisine:** Indian cuisine is famous worldwide for its diverse flavors and regional specialties. Spices play a central role in Indian cooking, and popular dishes include biryani, curry, dosa, and samosa. Vegetarianism is prevalent in many parts of the country.\\n\\n**5. Clothing:** Traditional Indian clothing varies across regions. For example, sarees, dhotis, and kurta-pajamas are commonly worn. However, Western-style clothing is also prevalent in urban areas.\\n\\n**6. Festivals:** India is renowned for its vibrant festivals, each celebrated with enthusiasm and fervor. Let\\'s explore some of the most significant ones:\\n\\nIndia\\'s Festivals:**\\n\\n**1. Diwali:** Also known as the Festival of Lights, Diwali celebrates the victory of light over darkness and good over evil. It involves lighting lamps, bursting fireworks, exchanging gifts, and enjoying sweets.\\n\\n**2. Holi:** Known as the Festival of Colors, Holi is a joyful celebration marked by people throwing colored powders and water at each other. It signifies the arrival of spring.\\n\\n**3. Eid:** Muslims in India celebrate Eid-ul-Fitr and Eid-ul-Adha with prayers, feasts, and the exchange of gifts. These festivals hold special significance in Islamic culture.\\n\\n**4. Durga Puja:** This is a major Hindu festival celebrated predominantly in West Bengal. It honors the goddess Durga and features elaborate decorations, cultural performances, and processions.\\n\\n**5. Christmas:** In India, Christmas is celebrated by Christians and non-Christians alike with decorated trees, midnight masses, and the exchange of gifts. It is a time of joy and togetherness.\\n\\nIndia\\'s History:**\\n\\n**1. Ancient Civilization:** India\\'s history dates back to the Indus Valley Civilization, one of the world\\'s oldest urban civilizations, which existed around 2500 BCE. The Vedas, ancient scriptures, were composed during this period.\\n\\n**2. Maurya and Gupta Empires:** The Mauryan Empire, under Ashoka, united much of the Indian subcontinent in the 3rd century BCE. The Gupta Empire followed, known as the \"Golden Age\" of India, marked by advancements in science, mathematics, and art.\\n\\n**3. Mughal Empire:** The Mughals, a Muslim dynasty, ruled India from the 16th to the 18th century. They left a significant cultural legacy, including architectural wonders like the Taj Mahal.\\n\\n**4. British Colonial Rule:** India was colonized by the British East India Company in the 18th century. This period witnessed significant social, political, and economic changes and also the struggle for independence led by figures like Mahatma Gandhi.\\n\\n**5. Independence:** India gained independence from British rule on August 15, 1947, and became a democratic republic on January 26, 1950. This date is celebrated as Republic Day.\\n\\n**6. Modern India:** Since independence, India has made significant progress in various fields, including science, technology, and economy. It remains a diverse and dynamic nation with a global influence.\\n\\nIndia\\'s culture, festivals, and history are incredibly diverse and fascinating, reflecting its rich heritage and the unity in diversity that defines the nation. This is just a glimpse of the multifaceted tapestry that is India.', metadata={'source': 'data/india.txt'})]"
            ]
          },
          "metadata": {},
          "execution_count": 15
        }
      ]
    },
    {
      "cell_type": "code",
      "source": [
        "documents[:100]"
      ],
      "metadata": {
        "colab": {
          "base_uri": "https://localhost:8080/"
        },
        "id": "VmoOCjoKxod3",
        "outputId": "f884f646-1a7e-4932-d041-1a1a9fec600c"
      },
      "execution_count": 16,
      "outputs": [
        {
          "output_type": "execute_result",
          "data": {
            "text/plain": [
              "[Document(page_content='Let\\'s explore the culture, festivals, and history of Canada in detail.\\n\\nCanada\\'s Culture:**\\n\\n**1. Cultural Diversity:** Canada is known for its cultural mosaic, where people from diverse backgrounds and ethnicities coexist harmoniously. This multiculturalism is a defining feature of Canadian society.\\n\\n**2. Bilingualism:** Canada is officially bilingual, with English and French as the two official languages. This bilingualism reflects the country\\'s history and the presence of a significant French-speaking population in the province of Quebec.\\n\\n**3. Arts and Culture:** Canada has a rich artistic heritage, with contributions to literature, music, film, and visual arts. Canadian authors like Margaret Atwood and Yann Martel have achieved international acclaim. The country is also known for its indigenous art and traditions.\\n\\n**4. Indigenous Culture:** Canada\\'s indigenous peoples, including First Nations, Inuit, and Métis, have a deep cultural heritage. Indigenous art, storytelling, and traditions are an integral part of Canadian culture.\\n\\n**5. Cuisine:** Canadian cuisine is influenced by both indigenous and immigrant cultures. Iconic dishes include poutine (fries with cheese curds and gravy), butter tarts, tourtière (meat pie), and Nanaimo bars.\\n\\nCanada\\'s Festivals:**\\n\\n**1. Canada Day:** Celebrated on July 1st, Canada Day marks the anniversary of Confederation in 1867 when Canada became a self-governing dominion within the British Empire. Festivities include parades, fireworks, and concerts.\\n\\n**2. Thanksgiving:** Similar to the U.S., Canada celebrates Thanksgiving on the second Monday in October. Families gather for a meal to give thanks for the harvest and blessings of the past year.\\n\\n**3. Winterlude:** Held in Ottawa, this winter festival showcases Canada\\'s love for winter sports and activities. It features ice sculptures, snow slides, and outdoor concerts.\\n\\n**4. Calgary Stampede:** Known as the \"Greatest Outdoor Show on Earth,\" this rodeo and exhibition celebrates Canada\\'s western heritage with rodeo events, concerts, and a lively carnival atmosphere.\\n\\n**5. Indigenous Powwows:** Throughout the year, various indigenous communities in Canada host powwows, which are gatherings featuring traditional dancing, drumming, and cultural celebrations.\\n\\nCanada\\'s History:**\\n\\n**1. Indigenous Peoples:** Canada has a long history of indigenous cultures dating back thousands of years. These diverse communities have their own languages, traditions, and histories.\\n\\n**2. European Exploration:** European exploration of Canada began in the 15th century with the arrival of explorers like John Cabot and Jacques Cartier. The fur trade became a significant economic activity.\\n\\n**3. Confederation:** On July 1, 1867, the Dominion of Canada was established through the British North America Act, uniting the provinces of Ontario, Quebec, New Brunswick, and Nova Scotia.\\n\\n**4. Expansion and Immigration:** Canada\\'s expansion westward in the late 19th and early 20th centuries attracted immigrants from Europe, Asia, and other parts of the world. This diversity has shaped modern Canada.\\n\\n**5. Independence:** Canada gradually gained more autonomy from Britain and achieved full sovereignty in 1982 with the Canada Act. The country is a constitutional monarchy with a parliamentary democracy.\\n\\nCanada\\'s culture, festivals, and history are a reflection of its multicultural identity and its commitment to inclusivity and diversity. Its history is marked by indigenous heritage, European exploration, and a modern nation known for its natural beauty, social programs, and progressive values.', metadata={'source': 'data/canada.txt'}),\n",
              " Document(page_content=\"Let's explore Pakistan's culture, festivals, and history in detail.\\n\\nPakistan's Culture:**\\n\\n**1. Cultural Diversity:** Pakistan is a diverse country with a rich tapestry of cultures, languages, and traditions. It is home to various ethnic groups, each contributing to the nation's unique cultural mosaic.\\n\\n**2. Religion:** Islam is the predominant religion in Pakistan, and it plays a central role in shaping the country's culture and way of life. Mosques, Islamic art, and calligraphy are integral parts of the cultural landscape.\\n\\n**3. Art and Architecture:** Pakistan has a rich artistic heritage, with impressive Islamic architecture, including Badshahi Mosque in Lahore and Shah Jahan Mosque in Thatta. Traditional art forms like truck art, pottery, and intricate textiles are prominent.\\n\\n**4. Cuisine:** Pakistani cuisine is known for its flavorful dishes, including biryani, kebabs, nihari, and various types of bread, such as naan and roti. Spices and aromatic herbs are commonly used in cooking.\\n\\n**5. Clothing:** Traditional Pakistani clothing varies by region. Men often wear shalwar kameez, while women wear various styles of shalwar kameez and saris. Western attire is also popular, especially in urban areas.\\n\\nPakistan's Festivals:**\\n\\n**1. Eid:** Eid-ul-Fitr and Eid-ul-Adha are two major Islamic festivals celebrated with great fervor. People dress in their finest clothes, offer prayers, exchange gifts, and share festive meals with family and friends.\\n\\n**2. Basant:** The Basant festival, celebrated in Punjab, marks the arrival of spring. It involves kite flying competitions, music, and dancing, with participants wearing bright colors.\\n\\n**3. Independence Day:** Pakistan celebrates its Independence Day on August 14th, commemorating the day it gained independence from British rule in 1947. Festivities include flag hoisting, parades, and cultural performances.\\n\\n**4. Shab-e-Barat:** This Islamic festival, also known as the Night of Forgiveness, involves special prayers and acts of charity. It's a time for Muslims to seek forgiveness and reflect on their deeds.\\n\\n**5. Urs Festivals:** These are annual festivals held at the shrines of Sufi saints across Pakistan. People gather to pay their respects, offer prayers, and participate in devotional music and dance.\\n\\nPakistan's History:**\\n\\n**1. Ancient History:** The region that is now Pakistan has a rich ancient history, with Indus Valley Civilization settlements dating back to 3300 BCE. This civilization is one of the world's oldest urban centers.\\n\\n**2. Muslim Rule:** The region saw the arrival of Islam in the 7th century, and it became a center for Islamic culture and learning. It was ruled by various Muslim dynasties, including the Mughals and the Delhi Sultanate.\\n\\n**3. Independence:** Pakistan gained independence on August 14, 1947, following the partition of British India. Muhammad Ali Jinnah, the founder of Pakistan, became its first Governor-General.\\n\\n**4. Modern Pakistan:** Since independence, Pakistan has faced various challenges and periods of political change. It has made progress in education, science, and technology and is known for its contributions in fields like literature, music, and sports.\\n\\n**5. Contemporary Pakistan:** Pakistan is a diverse and dynamic nation with a complex geopolitical landscape. It continues to play a significant role in regional and global affairs.\\n\\nPakistan's culture, festivals, and history are deeply rooted in its Islamic heritage and diverse cultural influences. The country's rich traditions and historical legacy contribute to its unique identity.\", metadata={'source': 'data/pakistan.txt'}),\n",
              " Document(page_content=\"Let's explore the culture, festivals, and history of England in detail.\\n\\nEngland's Culture:**\\n\\n**1. Cultural Heritage:** England is renowned for its rich cultural heritage, which has significantly influenced the world. Its contributions include literature, theater, music, and art. Notable figures include William Shakespeare, Charles Dickens, and The Beatles.\\n\\n**2. Language:** English, the official language, has become a global lingua franca. England's language and literature have played a pivotal role in shaping the modern world.\\n\\n**3. Arts and Entertainment:** England is home to world-class theaters like London's West End, where numerous plays and musicals are performed. The country has a strong tradition of classical music and hosts events like the BBC Proms.\\n\\n**4. Cuisine:** English cuisine includes classics like fish and chips, roast dinners, and afternoon tea. The country also has a diverse culinary scene influenced by immigration, with a variety of international restaurants.\\n\\n**5. Sports:** England has a passionate sports culture, with football (soccer), cricket, rugby, and tennis being popular. The English Premier League is one of the world's most-watched football leagues.\\n\\nEngland's Festivals:**\\n\\n**1. Bonfire Night:** Also known as Guy Fawkes Night, this November 5th celebration commemorates the failed Gunpowder Plot of 1605 with bonfires and fireworks.\\n\\n**2. Notting Hill Carnival:** Held in London in August, this vibrant carnival celebrates Caribbean culture with colorful parades, music, and dance.\\n\\n**3. Chelsea Flower Show:** This prestigious flower show takes place in May and showcases stunning garden displays and horticultural excellence.\\n\\n**4. Glastonbury Festival:** One of the world's most famous music festivals, Glastonbury attracts music lovers from around the globe and features a diverse lineup of artists.\\n\\n**5. Christmas:** Christmas in England involves decorating homes, carol singing, and festive markets. Traditional dishes include roast turkey, mince pies, and Christmas pudding.\\n\\nEngland's History:**\\n\\n**1. Ancient History:** England's history dates back to ancient times, with Roman occupation from AD 43 to the early 5th century. Roman influence can still be seen in landmarks like Hadrian's Wall.\\n\\n**2. Medieval England:** The medieval period saw the rise of kingdoms, the Norman Conquest in 1066, and the signing of the Magna Carta in 1215, a foundational document in constitutional history.\\n\\n**3. Tudor and Stuart Dynasties:** The Tudor era (1485-1603) saw the reigns of monarchs like Henry VIII and Elizabeth I. The Stuart period witnessed the English Civil War and the execution of King Charles I.\\n\\n**4. British Empire:** England played a central role in the formation of the British Empire, which became one of the largest empires in history. It had vast global influence in trade, culture, and politics.\\n\\n**5. Modern England:** The Industrial Revolution in the 18th and 19th centuries transformed England into an industrial powerhouse. The 20th century saw England endure two World Wars and eventually transition into a constitutional monarchy with a parliamentary system.\\n\\n**6. Contemporary England:** Today, England is part of the United Kingdom, comprising four nations. It has a diverse, multicultural society and is known for its global cities, including London, which is a major financial and cultural hub.\\n\\nEngland's culture, festivals, and history are a testament to its enduring influence on the world. From its literary giants to its iconic music and historical landmarks, England continues to be a place of cultural significance and historical importance.\", metadata={'source': 'data/england.txt'}),\n",
              " Document(page_content='Let\\'s explore the culture, festivals, and history of the United States (USA) in detail.\\n\\n**USA\\'s Culture:** In this section we are saying about USA\\'s Culture **1. Cultural Diversity:** The United States is often called a \"melting pot\" due to its incredible diversity. People from all over the world have immigrated to the U.S., contributing to a rich blend of cultures, languages, and traditions.\\n\\n**2. Religion:** The U.S. is religiously diverse, with a variety of faiths, including Christianity, Islam, Judaism, Buddhism, Hinduism, and others. Religious freedom is a fundamental principle in American culture.\\n\\n**3. Arts and Entertainment:** The USA has a vibrant arts scene, with contributions to literature, music, film, and visual arts. Iconic American authors like Mark Twain and Ernest Hemingway, legendary musicians like Elvis Presley and Bob Dylan, and Hollywood\\'s film industry have made a global impact.\\n\\n**4. Cuisine:** American cuisine is a reflection of its diverse population. It includes dishes influenced by Native American, European, African, Asian, and Latin American traditions. Fast food, barbecue, and regional specialties like Tex-Mex and New England clam chowder are notable.\\n\\n**5. Clothing:** American clothing styles vary widely, from casual wear like jeans and T-shirts to formal attire for business and special occasions. The U.S. is also known for its fashion industry, with cities like New York being major fashion hubs.\\n\\n**USA\\'s Festivals:** In this section we are saying about USA\\'s Festivals\\n\\n**1. Independence Day:** The Fourth of July is a significant national holiday commemorating the Declaration of Independence in 1776. It\\'s celebrated with fireworks, parades, barbecues, and patriotic displays.\\n\\n**2. Thanksgiving:** Thanksgiving, celebrated on the fourth Thursday in November, is a time for families to gather and give thanks. A traditional feast includes roast turkey, stuffing, and pumpkin pie.\\n\\n**3. Halloween:** On October 31st, Americans celebrate Halloween with costume parties, trick-or-treating, and haunted house visits. It\\'s a fun holiday for people of all ages.\\n\\n**4. Christmas:** Christmas is celebrated with decorations, gift-giving, and gatherings. Many cities are adorned with festive lights and decorations, and families exchange gifts on December 25th.\\n\\n**5. Labor Day:** Observed on the first Monday in September, Labor Day honors the contributions of workers and the labor movement. It often marks the end of summer and is celebrated with picnics and parades.\\n\\n**USA\\'s History:** In this section we are saying about USA\\'s History **1. Colonial Period:** European settlers, primarily from England, established colonies along the Eastern seaboard in the 17th century. The Mayflower Compact and the establishment of Jamestown are key events from this era.\\n\\n**2. American Revolution:** The American Revolution (1775-1783) led to the 13 American colonies gaining independence from British rule. The Declaration of Independence and the Revolutionary War are pivotal moments.\\n\\n**3. Expansion and Westward Movement:** The 19th century saw westward expansion, the Louisiana Purchase, and the Oregon Trail. This period contributed to the concept of Manifest Destiny, the belief in American expansion across the continent.\\n\\n**4. Civil War:** The American Civil War (1861-1865) was a defining moment in U.S. history, resulting in the abolition of slavery and the preservation of the Union.\\n\\n**5. 20th and 21st Centuries:** The U.S. experienced significant changes, including industrialization, the women\\'s suffrage movement, two World Wars, the civil rights movement, and technological advancements. The USA has become a global superpower and played a major role in international affairs.\\n\\nThe United States\\' culture, festivals, and history reflect its diverse and dynamic nature. It has shaped and been shaped by waves of immigration, social movements, and technological advancements, making it a complex and influential nation on the global stage.', metadata={'source': 'data/USA.txt'}),\n",
              " Document(page_content='India is a vast and diverse country with a rich cultural heritage, a tapestry of traditions, and a history that spans thousands of years. Let\\'s delve into India\\'s culture, festivals, and history in detail.\\n\\nIndia\\'s Culture:**\\n\\n**1. Cultural Diversity:** India is often referred to as the \"Land of Diversity\" due to its incredible variety of cultures, languages, religions, and traditions. It is home to numerous ethnic groups, each with its unique customs and practices.\\n\\n**2. Religion:** India is the birthplace of major religions such as Hinduism, Buddhism, Jainism, and Sikhism. It\\'s also home to significant populations of Muslims, Christians, and other faiths. The religious diversity has a profound influence on India\\'s cultural landscape.\\n\\n**3. Art and Architecture:** India boasts a rich artistic heritage, with intricate temple sculptures, colorful frescoes, and stunning architectural wonders like the Taj Mahal. Traditional art forms like Bharatanatyam (a classical dance), Kathak (another classical dance), and classical music are integral to Indian culture.\\n\\n**4. Cuisine:** Indian cuisine is famous worldwide for its diverse flavors and regional specialties. Spices play a central role in Indian cooking, and popular dishes include biryani, curry, dosa, and samosa. Vegetarianism is prevalent in many parts of the country.\\n\\n**5. Clothing:** Traditional Indian clothing varies across regions. For example, sarees, dhotis, and kurta-pajamas are commonly worn. However, Western-style clothing is also prevalent in urban areas.\\n\\n**6. Festivals:** India is renowned for its vibrant festivals, each celebrated with enthusiasm and fervor. Let\\'s explore some of the most significant ones:\\n\\nIndia\\'s Festivals:**\\n\\n**1. Diwali:** Also known as the Festival of Lights, Diwali celebrates the victory of light over darkness and good over evil. It involves lighting lamps, bursting fireworks, exchanging gifts, and enjoying sweets.\\n\\n**2. Holi:** Known as the Festival of Colors, Holi is a joyful celebration marked by people throwing colored powders and water at each other. It signifies the arrival of spring.\\n\\n**3. Eid:** Muslims in India celebrate Eid-ul-Fitr and Eid-ul-Adha with prayers, feasts, and the exchange of gifts. These festivals hold special significance in Islamic culture.\\n\\n**4. Durga Puja:** This is a major Hindu festival celebrated predominantly in West Bengal. It honors the goddess Durga and features elaborate decorations, cultural performances, and processions.\\n\\n**5. Christmas:** In India, Christmas is celebrated by Christians and non-Christians alike with decorated trees, midnight masses, and the exchange of gifts. It is a time of joy and togetherness.\\n\\nIndia\\'s History:**\\n\\n**1. Ancient Civilization:** India\\'s history dates back to the Indus Valley Civilization, one of the world\\'s oldest urban civilizations, which existed around 2500 BCE. The Vedas, ancient scriptures, were composed during this period.\\n\\n**2. Maurya and Gupta Empires:** The Mauryan Empire, under Ashoka, united much of the Indian subcontinent in the 3rd century BCE. The Gupta Empire followed, known as the \"Golden Age\" of India, marked by advancements in science, mathematics, and art.\\n\\n**3. Mughal Empire:** The Mughals, a Muslim dynasty, ruled India from the 16th to the 18th century. They left a significant cultural legacy, including architectural wonders like the Taj Mahal.\\n\\n**4. British Colonial Rule:** India was colonized by the British East India Company in the 18th century. This period witnessed significant social, political, and economic changes and also the struggle for independence led by figures like Mahatma Gandhi.\\n\\n**5. Independence:** India gained independence from British rule on August 15, 1947, and became a democratic republic on January 26, 1950. This date is celebrated as Republic Day.\\n\\n**6. Modern India:** Since independence, India has made significant progress in various fields, including science, technology, and economy. It remains a diverse and dynamic nation with a global influence.\\n\\nIndia\\'s culture, festivals, and history are incredibly diverse and fascinating, reflecting its rich heritage and the unity in diversity that defines the nation. This is just a glimpse of the multifaceted tapestry that is India.', metadata={'source': 'data/india.txt'})]"
            ]
          },
          "metadata": {},
          "execution_count": 16
        }
      ]
    },
    {
      "cell_type": "markdown",
      "source": [
        "# Splitting Large Documents to Small Chunks\n"
      ],
      "metadata": {
        "id": "UCO-V2hBlgNi"
      }
    },
    {
      "cell_type": "code",
      "source": [
        "from langchain.text_splitter import RecursiveCharacterTextSplitter\n",
        "\n",
        "text_splitter = RecursiveCharacterTextSplitter(chunk_size=500, chunk_overlap=20)\n",
        "docs = text_splitter.split_documents(documents)"
      ],
      "metadata": {
        "id": "NAEiKTYuyXKm"
      },
      "execution_count": 17,
      "outputs": []
    },
    {
      "cell_type": "code",
      "source": [
        "docs[0].page_content"
      ],
      "metadata": {
        "colab": {
          "base_uri": "https://localhost:8080/",
          "height": 70
        },
        "id": "q5DwjCehyeup",
        "outputId": "84f61d94-c885-4e38-9e7f-50c9d84834f6"
      },
      "execution_count": 18,
      "outputs": [
        {
          "output_type": "execute_result",
          "data": {
            "text/plain": [
              "\"Let's explore the culture, festivals, and history of Canada in detail.\\n\\nCanada's Culture:**\\n\\n**1. Cultural Diversity:** Canada is known for its cultural mosaic, where people from diverse backgrounds and ethnicities coexist harmoniously. This multiculturalism is a defining feature of Canadian society.\""
            ],
            "application/vnd.google.colaboratory.intrinsic+json": {
              "type": "string"
            }
          },
          "metadata": {},
          "execution_count": 18
        }
      ]
    },
    {
      "cell_type": "markdown",
      "source": [
        "# Embedding\n",
        "\n"
      ],
      "metadata": {
        "id": "Wdo2jQqjmRKa"
      }
    },
    {
      "cell_type": "code",
      "source": [
        "embeddings = OpenAIEmbeddings()"
      ],
      "metadata": {
        "id": "TpUsXwm8yqNz"
      },
      "execution_count": 20,
      "outputs": []
    },
    {
      "cell_type": "markdown",
      "source": [
        "# Storing to VectorDB"
      ],
      "metadata": {
        "id": "-eqxwD1YmYHk"
      }
    },
    {
      "cell_type": "code",
      "source": [
        "docsearch = FAISS.from_documents(docs, embeddings)"
      ],
      "metadata": {
        "id": "I7usvJ-pyrB7"
      },
      "execution_count": 22,
      "outputs": []
    },
    {
      "cell_type": "code",
      "source": [
        "docsearch"
      ],
      "metadata": {
        "colab": {
          "base_uri": "https://localhost:8080/"
        },
        "id": "mbP4TUvqztvH",
        "outputId": "150e0dac-a8b0-4dbd-a6f8-c99490cc06ce"
      },
      "execution_count": 23,
      "outputs": [
        {
          "output_type": "execute_result",
          "data": {
            "text/plain": [
              "<langchain_community.vectorstores.faiss.FAISS at 0x7fbfaecc1cc0>"
            ]
          },
          "metadata": {},
          "execution_count": 23
        }
      ]
    },
    {
      "cell_type": "markdown",
      "source": [
        "# Prediction"
      ],
      "metadata": {
        "id": "2GSjniLAmcrR"
      }
    },
    {
      "cell_type": "code",
      "source": [
        "from langchain.chains.question_answering import load_qa_chain\n",
        "from langchain.llms import OpenAI"
      ],
      "metadata": {
        "id": "sw8N6ygAyzA1"
      },
      "execution_count": 24,
      "outputs": []
    },
    {
      "cell_type": "code",
      "source": [
        "chain = load_qa_chain(OpenAI(), chain_type=\"stuff\")"
      ],
      "metadata": {
        "colab": {
          "base_uri": "https://localhost:8080/"
        },
        "id": "1FAgi0AKy0oB",
        "outputId": "dcfc5e06-5675-45ce-8c02-1e5b21c42581"
      },
      "execution_count": 25,
      "outputs": [
        {
          "output_type": "stream",
          "name": "stderr",
          "text": [
            "/usr/local/lib/python3.10/dist-packages/langchain_core/_api/deprecation.py:117: LangChainDeprecationWarning: The class `langchain_community.llms.openai.OpenAI` was deprecated in langchain-community 0.0.10 and will be removed in 0.2.0. An updated version of the class exists in the langchain-openai package and should be used instead. To use it run `pip install -U langchain-openai` and import as `from langchain_openai import OpenAI`.\n",
            "  warn_deprecated(\n"
          ]
        }
      ]
    },
    {
      "cell_type": "code",
      "source": [
        "query = \"What are the festivals of India ?\"\n",
        "docs = docsearch.similarity_search(query)\n",
        "chain.run(input_documents=docs, question=query)"
      ],
      "metadata": {
        "colab": {
          "base_uri": "https://localhost:8080/",
          "height": 90
        },
        "id": "hs8G_iy_y1Xn",
        "outputId": "8941ee32-6c30-44ef-b4a8-b6e6cd8adaa7"
      },
      "execution_count": 26,
      "outputs": [
        {
          "output_type": "stream",
          "name": "stderr",
          "text": [
            "/usr/local/lib/python3.10/dist-packages/langchain_core/_api/deprecation.py:117: LangChainDeprecationWarning: The function `run` was deprecated in LangChain 0.1.0 and will be removed in 0.2.0. Use invoke instead.\n",
            "  warn_deprecated(\n"
          ]
        },
        {
          "output_type": "execute_result",
          "data": {
            "text/plain": [
              "' The festivals of India are Diwali, Holi, Eid, Durga Puja, and Christmas.'"
            ],
            "application/vnd.google.colaboratory.intrinsic+json": {
              "type": "string"
            }
          },
          "metadata": {},
          "execution_count": 26
        }
      ]
    },
    {
      "cell_type": "code",
      "source": [
        "query = \"explain festivals of India in detail ?\"\n",
        "docs = docsearch.similarity_search(query)\n",
        "chain.run(input_documents=docs, question=query)"
      ],
      "metadata": {
        "colab": {
          "base_uri": "https://localhost:8080/",
          "height": 174
        },
        "id": "7cSR1uylTRxA",
        "outputId": "fafdfc27-da2b-47fe-df57-1b37319efbf3"
      },
      "execution_count": 27,
      "outputs": [
        {
          "output_type": "execute_result",
          "data": {
            "text/plain": [
              "\" India is renowned for its vibrant festivals, each celebrated with enthusiasm and fervor. Some of the most significant festivals include Diwali, Holi, Eid, Durga Puja, and Christmas. Diwali celebrates the victory of light over darkness and good over evil, and involves activities such as lighting lamps, bursting fireworks, exchanging gifts, and enjoying sweets. Holi is a joyful celebration marked by people throwing colored powders and water at each other, signifying the arrival of spring. Muslims in India celebrate Eid-ul-Fitr and Eid-ul-Adha with prayers, feasts, and gift exchanges. Durga Puja is a major Hindu festival in West Bengal, honoring the goddess Durga and featuring elaborate decorations, cultural performances, and processions. Christmas, celebrated by Christians and non-Christians alike, is a time of joy and togetherness with decorated trees, midnight masses, and gift exchanges. Overall, India's festivals showcase the country's rich cultural heritage and diversity.\""
            ],
            "application/vnd.google.colaboratory.intrinsic+json": {
              "type": "string"
            }
          },
          "metadata": {},
          "execution_count": 27
        }
      ]
    },
    {
      "cell_type": "code",
      "source": [
        "query = \"What is the culture in Canada ?\"\n",
        "docs = docsearch.similarity_search(query)\n",
        "chain.run(input_documents=docs, question=query)"
      ],
      "metadata": {
        "colab": {
          "base_uri": "https://localhost:8080/",
          "height": 70
        },
        "id": "Y-k7M8laTWWl",
        "outputId": "ffee4e47-f4cc-4876-a046-24359ceed844"
      },
      "execution_count": 28,
      "outputs": [
        {
          "output_type": "execute_result",
          "data": {
            "text/plain": [
              "' The culture in Canada is known for its diversity, inclusivity, and multiculturalism, influenced by indigenous heritage and immigrant cultures. It is also known for its rich artistic heritage and contributions to literature, music, film, and visual arts. '"
            ],
            "application/vnd.google.colaboratory.intrinsic+json": {
              "type": "string"
            }
          },
          "metadata": {},
          "execution_count": 28
        }
      ]
    },
    {
      "cell_type": "code",
      "source": [
        "query = \"who is the president of India ?\"\n",
        "docs = docsearch.similarity_search(query)\n",
        "chain.run(input_documents=docs, question=query)"
      ],
      "metadata": {
        "colab": {
          "base_uri": "https://localhost:8080/",
          "height": 35
        },
        "id": "kywuC2lDTeoc",
        "outputId": "7f4efcf8-d13a-4b6d-cb3b-58116234a614"
      },
      "execution_count": 29,
      "outputs": [
        {
          "output_type": "execute_result",
          "data": {
            "text/plain": [
              "\" I don't know.\""
            ],
            "application/vnd.google.colaboratory.intrinsic+json": {
              "type": "string"
            }
          },
          "metadata": {},
          "execution_count": 29
        }
      ]
    }
  ]
}